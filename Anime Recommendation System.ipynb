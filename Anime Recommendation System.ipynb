{
 "cells": [
  {
   "cell_type": "markdown",
   "id": "710fef0d",
   "metadata": {},
   "source": [
    "## The Anime Recommendation system\n",
    "The Anime Recommendation system is one of the best projects as it includes a data set \n",
    "containing information regarding user preference from 73,516 users on 12,294 anime. \n",
    "Every user in the database will be able to add anime to the list and share ratings \n",
    "compiling a data set with those ratings. The anime recommendation system project helps \n",
    "in creating a system that produces efficient data based on the user viewing history and \n",
    "sharing rating.\n",
    "Dataset:\n",
    "https://www.kaggle.com/datasets/CooperUnion/anime-recommendations-database"
   ]
  },
  {
   "cell_type": "markdown",
   "id": "135c9c2c",
   "metadata": {},
   "source": [
    "# Content\n",
    "### Anime.csv\n",
    "| Column | Description |\n",
    "|--------|-------------|\n",
    "| anime_id | myanimelist.net's unique id identifying an anime |\n",
    "| name | Full name of anime |\n",
    "| genre | Comma-separated list of genres for this anime |\n",
    "| type | Type of anime (movie, TV, OVA, etc.) |\n",
    "| episodes | Number of episodes in this show (1 if movie) |\n",
    "| rating | Average rating out of 10 for this anime |\n",
    "| members | Number of community members that are in this anime's \"group\" |\n",
    "\n",
    "\n",
    "### Rating.csv\n",
    "| Column | Description |\n",
    "|--------|-------------|\n",
    "| user_id | Non-identifiable randomly generated user id |\n",
    "| anime_id | The anime that this user has rated |\n",
    "| rating | Rating out of 10 this user has assigned (-1 if the user watched it but didn't assign a rating) |\n",
    "\n",
    "\n",
    "### **Things to put light on**\n",
    "<li>The connection between Anime and rates is the anime id\n",
    "<li>REMEMBER!! rating in anime data is the total rates have happened to this data, but rating in the second table is specific for some user , means by that user number 1 has rated with 5 for anime, and the same anime has about 59 rates and all of them about 9.38 rate"
   ]
  },
  {
   "cell_type": "code",
   "execution_count": 8,
   "id": "2713022f",
   "metadata": {},
   "outputs": [],
   "source": [
    "import pandas as pd \n",
    "import numpy as np \n",
    "import tkinter as tk\n",
    "from tkinter import filedialog"
   ]
  },
  {
   "cell_type": "code",
   "execution_count": 2,
   "id": "4cad6628",
   "metadata": {},
   "outputs": [],
   "source": [
    "root = tk.Tk()\n",
    "root.withdraw() # hide the root window\n",
    "file_path_of_anime = filedialog.askopenfilename() # show the file dialog box and wait for user selection"
   ]
  },
  {
   "cell_type": "code",
   "execution_count": 3,
   "id": "dbeb6026",
   "metadata": {},
   "outputs": [
    {
     "name": "stdout",
     "output_type": "stream",
     "text": [
      "C:/Users/umahm/OneDrive/Desktop/Projects Github/Data-Mining/anime.csv\n",
      "C:/Users/umahm/OneDrive/Desktop/Projects Github/Data-Mining/rating.csv\n"
     ]
    }
   ],
   "source": [
    "file_path_of_rating = filedialog.askopenfilename() # show the file dialog box and wait for user selection\n",
    "print(file_path_of_anime,file_path_of_rating,sep=\"\\n\") # print the path of the selected file"
   ]
  },
  {
   "cell_type": "code",
   "execution_count": 33,
   "id": "9d08353e",
   "metadata": {},
   "outputs": [],
   "source": [
    "def wrangle(path):\n",
    "    data = pd.read_csv(path)\n",
    "    print(\"Head Values of data\",data.head(),sep=\"\\n\")\n",
    "    print(\"The needed Info of data : \",data.info(),sep=\"\\n\")\n",
    "    print(\"Statistical data\",data.describe(include=\"all\").T,sep=\"\\n\")\n",
    "    print(\"Nullity in data\",data.isnull().sum(),sep=\"\\n\")    \n",
    "    return data"
   ]
  },
  {
   "cell_type": "code",
   "execution_count": 34,
   "id": "939e2bd9",
   "metadata": {},
   "outputs": [
    {
     "name": "stdout",
     "output_type": "stream",
     "text": [
      "Head Values of data\n",
      "   user_id  anime_id  rating\n",
      "0        1        20      -1\n",
      "1        1        24      -1\n",
      "2        1        79      -1\n",
      "3        1       226      -1\n",
      "4        1       241      -1\n",
      "<class 'pandas.core.frame.DataFrame'>\n",
      "RangeIndex: 7813737 entries, 0 to 7813736\n",
      "Data columns (total 3 columns):\n",
      " #   Column    Dtype\n",
      "---  ------    -----\n",
      " 0   user_id   int64\n",
      " 1   anime_id  int64\n",
      " 2   rating    int64\n",
      "dtypes: int64(3)\n",
      "memory usage: 178.8 MB\n",
      "The needed Info of data : \n",
      "None\n",
      "Statistical data\n",
      "              count          mean           std  min      25%      50%  \\\n",
      "user_id   7813737.0  36727.956745  20997.946119  1.0  18974.0  36791.0   \n",
      "anime_id  7813737.0   8909.072104   8883.949636  1.0   1240.0   6213.0   \n",
      "rating    7813737.0      6.144030      3.727800 -1.0      6.0      7.0   \n",
      "\n",
      "              75%      max  \n",
      "user_id   54757.0  73516.0  \n",
      "anime_id  14093.0  34519.0  \n",
      "rating        9.0     10.0  \n",
      "Nullity in data\n",
      "user_id     0\n",
      "anime_id    0\n",
      "rating      0\n",
      "dtype: int64\n"
     ]
    }
   ],
   "source": [
    "rating = wrangle(path=file_path_of_rating)"
   ]
  },
  {
   "cell_type": "code",
   "execution_count": 35,
   "id": "98c443df",
   "metadata": {},
   "outputs": [
    {
     "name": "stdout",
     "output_type": "stream",
     "text": [
      "Head Values of data\n",
      "   anime_id                              name  \\\n",
      "0     32281                    Kimi no Na wa.   \n",
      "1      5114  Fullmetal Alchemist: Brotherhood   \n",
      "2     28977                          Gintama°   \n",
      "3      9253                       Steins;Gate   \n",
      "4      9969                     Gintama&#039;   \n",
      "\n",
      "                                               genre   type episodes  rating  \\\n",
      "0               Drama, Romance, School, Supernatural  Movie        1    9.37   \n",
      "1  Action, Adventure, Drama, Fantasy, Magic, Mili...     TV       64    9.26   \n",
      "2  Action, Comedy, Historical, Parody, Samurai, S...     TV       51    9.25   \n",
      "3                                   Sci-Fi, Thriller     TV       24    9.17   \n",
      "4  Action, Comedy, Historical, Parody, Samurai, S...     TV       51    9.16   \n",
      "\n",
      "   members  \n",
      "0   200630  \n",
      "1   793665  \n",
      "2   114262  \n",
      "3   673572  \n",
      "4   151266  \n",
      "<class 'pandas.core.frame.DataFrame'>\n",
      "RangeIndex: 12294 entries, 0 to 12293\n",
      "Data columns (total 7 columns):\n",
      " #   Column    Non-Null Count  Dtype  \n",
      "---  ------    --------------  -----  \n",
      " 0   anime_id  12294 non-null  int64  \n",
      " 1   name      12294 non-null  object \n",
      " 2   genre     12232 non-null  object \n",
      " 3   type      12269 non-null  object \n",
      " 4   episodes  12294 non-null  object \n",
      " 5   rating    12064 non-null  float64\n",
      " 6   members   12294 non-null  int64  \n",
      "dtypes: float64(1), int64(2), object(4)\n",
      "memory usage: 672.5+ KB\n",
      "The needed Info of data : \n",
      "None\n",
      "Statistical data\n",
      "            count unique                      top  freq          mean  \\\n",
      "anime_id  12294.0    NaN                      NaN   NaN  14058.221653   \n",
      "name        12294  12292  Shi Wan Ge Leng Xiaohua     2           NaN   \n",
      "genre       12232   3264                   Hentai   823           NaN   \n",
      "type        12269      6                       TV  3787           NaN   \n",
      "episodes    12294    187                        1  5677           NaN   \n",
      "rating    12064.0    NaN                      NaN   NaN      6.473902   \n",
      "members   12294.0    NaN                      NaN   NaN  18071.338864   \n",
      "\n",
      "                   std   min      25%      50%      75%        max  \n",
      "anime_id  11455.294701   1.0  3484.25  10260.5  24794.5    34527.0  \n",
      "name               NaN   NaN      NaN      NaN      NaN        NaN  \n",
      "genre              NaN   NaN      NaN      NaN      NaN        NaN  \n",
      "type               NaN   NaN      NaN      NaN      NaN        NaN  \n",
      "episodes           NaN   NaN      NaN      NaN      NaN        NaN  \n",
      "rating        1.026746  1.67     5.88     6.57     7.18       10.0  \n",
      "members   54820.676925   5.0    225.0   1550.0   9437.0  1013917.0  \n",
      "Nullity in data\n",
      "anime_id      0\n",
      "name          0\n",
      "genre        62\n",
      "type         25\n",
      "episodes      0\n",
      "rating      230\n",
      "members       0\n",
      "dtype: int64\n"
     ]
    }
   ],
   "source": [
    "anime = wrangle(path=file_path_of_anime)"
   ]
  }
 ],
 "metadata": {
  "kernelspec": {
   "display_name": "Python 3 (ipykernel)",
   "language": "python",
   "name": "python3"
  },
  "language_info": {
   "codemirror_mode": {
    "name": "ipython",
    "version": 3
   },
   "file_extension": ".py",
   "mimetype": "text/x-python",
   "name": "python",
   "nbconvert_exporter": "python",
   "pygments_lexer": "ipython3",
   "version": "3.9.12"
  }
 },
 "nbformat": 4,
 "nbformat_minor": 5
}
